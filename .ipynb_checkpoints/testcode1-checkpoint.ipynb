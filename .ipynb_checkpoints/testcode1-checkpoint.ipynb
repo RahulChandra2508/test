{
 "cells": [
  {
   "cell_type": "code",
   "execution_count": 1,
   "id": "977c92d6",
   "metadata": {},
   "outputs": [],
   "source": [
    "import pandas as pd\n",
    "import numpy as np\n",
    "import matplotlib.pyplot as plt\n",
    "import seaborn as sns"
   ]
  },
  {
   "cell_type": "code",
   "execution_count": 2,
   "id": "560fadb6",
   "metadata": {},
   "outputs": [],
   "source": [
    "import warnings\n",
    "warnings.filterwarnings(\"ignore\")"
   ]
  },
  {
   "cell_type": "code",
   "execution_count": 3,
   "id": "f9193876",
   "metadata": {},
   "outputs": [],
   "source": [
    "# Class (0 for authentic, 1 for inauthentic).\n",
    "columns = [\"Variance of Wavelet Transformed image\", \"Skewness of Wavelet Transformed image\", \"Kurtosis of Wavelet Transformed image\",\n",
    "\"Entropy of image\",\"Class\"]"
   ]
  },
  {
   "cell_type": "code",
   "execution_count": 4,
   "id": "93bbdcdd",
   "metadata": {},
   "outputs": [],
   "source": [
    "data = np.loadtxt(\"data_banknote_authentication.txt\",dtype=\"float\",delimiter=\",\")"
   ]
  },
  {
   "cell_type": "code",
   "execution_count": 5,
   "id": "332f0fd8",
   "metadata": {
    "scrolled": true
   },
   "outputs": [],
   "source": [
    "data_banknote = pd.DataFrame(data,columns=columns)"
   ]
  },
  {
   "cell_type": "code",
   "execution_count": 6,
   "id": "302638ae",
   "metadata": {},
   "outputs": [
    {
     "data": {
      "text/html": [
       "<div>\n",
       "<style scoped>\n",
       "    .dataframe tbody tr th:only-of-type {\n",
       "        vertical-align: middle;\n",
       "    }\n",
       "\n",
       "    .dataframe tbody tr th {\n",
       "        vertical-align: top;\n",
       "    }\n",
       "\n",
       "    .dataframe thead th {\n",
       "        text-align: right;\n",
       "    }\n",
       "</style>\n",
       "<table border=\"1\" class=\"dataframe\">\n",
       "  <thead>\n",
       "    <tr style=\"text-align: right;\">\n",
       "      <th></th>\n",
       "      <th>Variance of Wavelet Transformed image</th>\n",
       "      <th>Skewness of Wavelet Transformed image</th>\n",
       "      <th>Kurtosis of Wavelet Transformed image</th>\n",
       "      <th>Entropy of image</th>\n",
       "      <th>Class</th>\n",
       "    </tr>\n",
       "  </thead>\n",
       "  <tbody>\n",
       "    <tr>\n",
       "      <th>0</th>\n",
       "      <td>3.62160</td>\n",
       "      <td>8.66610</td>\n",
       "      <td>-2.8073</td>\n",
       "      <td>-0.44699</td>\n",
       "      <td>0.0</td>\n",
       "    </tr>\n",
       "    <tr>\n",
       "      <th>1</th>\n",
       "      <td>4.54590</td>\n",
       "      <td>8.16740</td>\n",
       "      <td>-2.4586</td>\n",
       "      <td>-1.46210</td>\n",
       "      <td>0.0</td>\n",
       "    </tr>\n",
       "    <tr>\n",
       "      <th>2</th>\n",
       "      <td>3.86600</td>\n",
       "      <td>-2.63830</td>\n",
       "      <td>1.9242</td>\n",
       "      <td>0.10645</td>\n",
       "      <td>0.0</td>\n",
       "    </tr>\n",
       "    <tr>\n",
       "      <th>3</th>\n",
       "      <td>3.45660</td>\n",
       "      <td>9.52280</td>\n",
       "      <td>-4.0112</td>\n",
       "      <td>-3.59440</td>\n",
       "      <td>0.0</td>\n",
       "    </tr>\n",
       "    <tr>\n",
       "      <th>4</th>\n",
       "      <td>0.32924</td>\n",
       "      <td>-4.45520</td>\n",
       "      <td>4.5718</td>\n",
       "      <td>-0.98880</td>\n",
       "      <td>0.0</td>\n",
       "    </tr>\n",
       "    <tr>\n",
       "      <th>...</th>\n",
       "      <td>...</td>\n",
       "      <td>...</td>\n",
       "      <td>...</td>\n",
       "      <td>...</td>\n",
       "      <td>...</td>\n",
       "    </tr>\n",
       "    <tr>\n",
       "      <th>1367</th>\n",
       "      <td>0.40614</td>\n",
       "      <td>1.34920</td>\n",
       "      <td>-1.4501</td>\n",
       "      <td>-0.55949</td>\n",
       "      <td>1.0</td>\n",
       "    </tr>\n",
       "    <tr>\n",
       "      <th>1368</th>\n",
       "      <td>-1.38870</td>\n",
       "      <td>-4.87730</td>\n",
       "      <td>6.4774</td>\n",
       "      <td>0.34179</td>\n",
       "      <td>1.0</td>\n",
       "    </tr>\n",
       "    <tr>\n",
       "      <th>1369</th>\n",
       "      <td>-3.75030</td>\n",
       "      <td>-13.45860</td>\n",
       "      <td>17.5932</td>\n",
       "      <td>-2.77710</td>\n",
       "      <td>1.0</td>\n",
       "    </tr>\n",
       "    <tr>\n",
       "      <th>1370</th>\n",
       "      <td>-3.56370</td>\n",
       "      <td>-8.38270</td>\n",
       "      <td>12.3930</td>\n",
       "      <td>-1.28230</td>\n",
       "      <td>1.0</td>\n",
       "    </tr>\n",
       "    <tr>\n",
       "      <th>1371</th>\n",
       "      <td>-2.54190</td>\n",
       "      <td>-0.65804</td>\n",
       "      <td>2.6842</td>\n",
       "      <td>1.19520</td>\n",
       "      <td>1.0</td>\n",
       "    </tr>\n",
       "  </tbody>\n",
       "</table>\n",
       "<p>1372 rows × 5 columns</p>\n",
       "</div>"
      ],
      "text/plain": [
       "      Variance of Wavelet Transformed image  \\\n",
       "0                                   3.62160   \n",
       "1                                   4.54590   \n",
       "2                                   3.86600   \n",
       "3                                   3.45660   \n",
       "4                                   0.32924   \n",
       "...                                     ...   \n",
       "1367                                0.40614   \n",
       "1368                               -1.38870   \n",
       "1369                               -3.75030   \n",
       "1370                               -3.56370   \n",
       "1371                               -2.54190   \n",
       "\n",
       "      Skewness of Wavelet Transformed image  \\\n",
       "0                                   8.66610   \n",
       "1                                   8.16740   \n",
       "2                                  -2.63830   \n",
       "3                                   9.52280   \n",
       "4                                  -4.45520   \n",
       "...                                     ...   \n",
       "1367                                1.34920   \n",
       "1368                               -4.87730   \n",
       "1369                              -13.45860   \n",
       "1370                               -8.38270   \n",
       "1371                               -0.65804   \n",
       "\n",
       "      Kurtosis of Wavelet Transformed image  Entropy of image  Class  \n",
       "0                                   -2.8073          -0.44699    0.0  \n",
       "1                                   -2.4586          -1.46210    0.0  \n",
       "2                                    1.9242           0.10645    0.0  \n",
       "3                                   -4.0112          -3.59440    0.0  \n",
       "4                                    4.5718          -0.98880    0.0  \n",
       "...                                     ...               ...    ...  \n",
       "1367                                -1.4501          -0.55949    1.0  \n",
       "1368                                 6.4774           0.34179    1.0  \n",
       "1369                                17.5932          -2.77710    1.0  \n",
       "1370                                12.3930          -1.28230    1.0  \n",
       "1371                                 2.6842           1.19520    1.0  \n",
       "\n",
       "[1372 rows x 5 columns]"
      ]
     },
     "execution_count": 6,
     "metadata": {},
     "output_type": "execute_result"
    }
   ],
   "source": [
    "data_banknote"
   ]
  },
  {
   "cell_type": "code",
   "execution_count": 7,
   "id": "59699bf7",
   "metadata": {},
   "outputs": [
    {
     "name": "stdout",
     "output_type": "stream",
     "text": [
      "<class 'pandas.core.frame.DataFrame'>\n",
      "RangeIndex: 1372 entries, 0 to 1371\n",
      "Data columns (total 5 columns):\n",
      " #   Column                                 Non-Null Count  Dtype  \n",
      "---  ------                                 --------------  -----  \n",
      " 0   Variance of Wavelet Transformed image  1372 non-null   float64\n",
      " 1   Skewness of Wavelet Transformed image  1372 non-null   float64\n",
      " 2   Kurtosis of Wavelet Transformed image  1372 non-null   float64\n",
      " 3   Entropy of image                       1372 non-null   float64\n",
      " 4   Class                                  1372 non-null   float64\n",
      "dtypes: float64(5)\n",
      "memory usage: 53.7 KB\n"
     ]
    }
   ],
   "source": [
    "data_banknote.info()"
   ]
  },
  {
   "cell_type": "code",
   "execution_count": 8,
   "id": "848eb1bc",
   "metadata": {},
   "outputs": [
    {
     "data": {
      "text/html": [
       "<div>\n",
       "<style scoped>\n",
       "    .dataframe tbody tr th:only-of-type {\n",
       "        vertical-align: middle;\n",
       "    }\n",
       "\n",
       "    .dataframe tbody tr th {\n",
       "        vertical-align: top;\n",
       "    }\n",
       "\n",
       "    .dataframe thead th {\n",
       "        text-align: right;\n",
       "    }\n",
       "</style>\n",
       "<table border=\"1\" class=\"dataframe\">\n",
       "  <thead>\n",
       "    <tr style=\"text-align: right;\">\n",
       "      <th></th>\n",
       "      <th>Variance of Wavelet Transformed image</th>\n",
       "      <th>Skewness of Wavelet Transformed image</th>\n",
       "      <th>Kurtosis of Wavelet Transformed image</th>\n",
       "      <th>Entropy of image</th>\n",
       "      <th>Class</th>\n",
       "    </tr>\n",
       "  </thead>\n",
       "  <tbody>\n",
       "    <tr>\n",
       "      <th>count</th>\n",
       "      <td>1372.000000</td>\n",
       "      <td>1372.000000</td>\n",
       "      <td>1372.000000</td>\n",
       "      <td>1372.000000</td>\n",
       "      <td>1372.000000</td>\n",
       "    </tr>\n",
       "    <tr>\n",
       "      <th>mean</th>\n",
       "      <td>0.433735</td>\n",
       "      <td>1.922353</td>\n",
       "      <td>1.397627</td>\n",
       "      <td>-1.191657</td>\n",
       "      <td>0.444606</td>\n",
       "    </tr>\n",
       "    <tr>\n",
       "      <th>std</th>\n",
       "      <td>2.842763</td>\n",
       "      <td>5.869047</td>\n",
       "      <td>4.310030</td>\n",
       "      <td>2.101013</td>\n",
       "      <td>0.497103</td>\n",
       "    </tr>\n",
       "    <tr>\n",
       "      <th>min</th>\n",
       "      <td>-7.042100</td>\n",
       "      <td>-13.773100</td>\n",
       "      <td>-5.286100</td>\n",
       "      <td>-8.548200</td>\n",
       "      <td>0.000000</td>\n",
       "    </tr>\n",
       "    <tr>\n",
       "      <th>25%</th>\n",
       "      <td>-1.773000</td>\n",
       "      <td>-1.708200</td>\n",
       "      <td>-1.574975</td>\n",
       "      <td>-2.413450</td>\n",
       "      <td>0.000000</td>\n",
       "    </tr>\n",
       "    <tr>\n",
       "      <th>50%</th>\n",
       "      <td>0.496180</td>\n",
       "      <td>2.319650</td>\n",
       "      <td>0.616630</td>\n",
       "      <td>-0.586650</td>\n",
       "      <td>0.000000</td>\n",
       "    </tr>\n",
       "    <tr>\n",
       "      <th>75%</th>\n",
       "      <td>2.821475</td>\n",
       "      <td>6.814625</td>\n",
       "      <td>3.179250</td>\n",
       "      <td>0.394810</td>\n",
       "      <td>1.000000</td>\n",
       "    </tr>\n",
       "    <tr>\n",
       "      <th>max</th>\n",
       "      <td>6.824800</td>\n",
       "      <td>12.951600</td>\n",
       "      <td>17.927400</td>\n",
       "      <td>2.449500</td>\n",
       "      <td>1.000000</td>\n",
       "    </tr>\n",
       "  </tbody>\n",
       "</table>\n",
       "</div>"
      ],
      "text/plain": [
       "       Variance of Wavelet Transformed image  \\\n",
       "count                            1372.000000   \n",
       "mean                                0.433735   \n",
       "std                                 2.842763   \n",
       "min                                -7.042100   \n",
       "25%                                -1.773000   \n",
       "50%                                 0.496180   \n",
       "75%                                 2.821475   \n",
       "max                                 6.824800   \n",
       "\n",
       "       Skewness of Wavelet Transformed image  \\\n",
       "count                            1372.000000   \n",
       "mean                                1.922353   \n",
       "std                                 5.869047   \n",
       "min                               -13.773100   \n",
       "25%                                -1.708200   \n",
       "50%                                 2.319650   \n",
       "75%                                 6.814625   \n",
       "max                                12.951600   \n",
       "\n",
       "       Kurtosis of Wavelet Transformed image  Entropy of image        Class  \n",
       "count                            1372.000000       1372.000000  1372.000000  \n",
       "mean                                1.397627         -1.191657     0.444606  \n",
       "std                                 4.310030          2.101013     0.497103  \n",
       "min                                -5.286100         -8.548200     0.000000  \n",
       "25%                                -1.574975         -2.413450     0.000000  \n",
       "50%                                 0.616630         -0.586650     0.000000  \n",
       "75%                                 3.179250          0.394810     1.000000  \n",
       "max                                17.927400          2.449500     1.000000  "
      ]
     },
     "execution_count": 8,
     "metadata": {},
     "output_type": "execute_result"
    }
   ],
   "source": [
    "data_banknote.describe()"
   ]
  },
  {
   "cell_type": "code",
   "execution_count": 9,
   "id": "673f0891",
   "metadata": {},
   "outputs": [
    {
     "data": {
      "text/plain": [
       "Variance of Wavelet Transformed image    0\n",
       "Skewness of Wavelet Transformed image    0\n",
       "Kurtosis of Wavelet Transformed image    0\n",
       "Entropy of image                         0\n",
       "Class                                    0\n",
       "dtype: int64"
      ]
     },
     "execution_count": 9,
     "metadata": {},
     "output_type": "execute_result"
    }
   ],
   "source": [
    "data_banknote.isnull().sum()"
   ]
  },
  {
   "cell_type": "code",
   "execution_count": 10,
   "id": "8e9cf418",
   "metadata": {},
   "outputs": [
    {
     "data": {
      "text/plain": [
       "<AxesSubplot:xlabel='Entropy of image', ylabel='Density'>"
      ]
     },
     "execution_count": 10,
     "metadata": {},
     "output_type": "execute_result"
    },
    {
     "data": {
      "image/png": "[encoded data removed]",
      "text/plain": [
       "<Figure size 1440x720 with 4 Axes>"
      ]
     },
     "metadata": {
      "needs_background": "light"
     },
     "output_type": "display_data"
    }
   ],
   "source": [
    "# Here we can see that these variable are not from normal distribution, we can convert these variables into normal distributed\n",
    "# so that the model converges faster\n",
    "plt.figure(figsize=(20,10))\n",
    "plt.subplot(2,2,1)\n",
    "sns.distplot(data_banknote[\"Variance of Wavelet Transformed image\"])\n",
    "plt.subplot(2,2,2)\n",
    "sns.distplot(data_banknote[\"Skewness of Wavelet Transformed image\"])\n",
    "plt.subplot(2,2,3)\n",
    "sns.distplot(data_banknote[\"Kurtosis of Wavelet Transformed image\"])\n",
    "plt.subplot(2,2,4)\n",
    "sns.distplot(data_banknote[\"Entropy of image\"])"
   ]
  },
  {
   "cell_type": "code",
   "execution_count": 11,
   "id": "5d023d4d",
   "metadata": {},
   "outputs": [
    {
     "data": {
      "text/plain": [
       "<AxesSubplot:xlabel='Entropy of image'>"
      ]
     },
     "execution_count": 11,
     "metadata": {},
     "output_type": "execute_result"
    },
    {
     "data": {
      "image/png": "[encoded data removed]",
      "text/plain": [
       "<Figure size 1440x720 with 4 Axes>"
      ]
     },
     "metadata": {
      "needs_background": "light"
     },
     "output_type": "display_data"
    }
   ],
   "source": [
    "plt.figure(figsize=(20,10))\n",
    "plt.subplot(2,2,1)\n",
    "sns.boxplot(data_banknote[\"Variance of Wavelet Transformed image\"],orient=\"v\")\n",
    "plt.subplot(2,2,2)\n",
    "sns.boxplot(data_banknote[\"Skewness of Wavelet Transformed image\"],orient=\"v\")\n",
    "plt.subplot(2,2,3)\n",
    "sns.boxplot(data_banknote[\"Kurtosis of Wavelet Transformed image\"],orient=\"v\")\n",
    "plt.subplot(2,2,4)\n",
    "sns.boxplot(data_banknote[\"Entropy of image\"],orient=\"v\")"
   ]
  },
  {
   "cell_type": "code",
   "execution_count": 12,
   "id": "8f714157",
   "metadata": {},
   "outputs": [
    {
     "data": {
      "text/plain": [
       "1372"
      ]
     },
     "execution_count": 12,
     "metadata": {},
     "output_type": "execute_result"
    }
   ],
   "source": [
    "data_banknote.Class.count()"
   ]
  },
  {
   "cell_type": "code",
   "execution_count": 13,
   "id": "7672eed5",
   "metadata": {},
   "outputs": [
    {
     "data": {
      "text/plain": [
       "0.0    0.555394\n",
       "1.0    0.444606\n",
       "Name: Class, dtype: float64"
      ]
     },
     "execution_count": 13,
     "metadata": {},
     "output_type": "execute_result"
    }
   ],
   "source": [
    "# Here we can see it as Balanced data, as we can see the \n",
    "data_banknote.Class.value_counts()/data_banknote.Class.count()"
   ]
  },
  {
   "cell_type": "markdown",
   "id": "e4960e7d",
   "metadata": {},
   "source": [
    "### Decision Tree"
   ]
  },
  {
   "cell_type": "code",
   "execution_count": 14,
   "id": "b2b09bca",
   "metadata": {},
   "outputs": [],
   "source": [
    "from sklearn.tree import DecisionTreeClassifier\n",
    "from sklearn.model_selection import GridSearchCV"
   ]
  },
  {
   "cell_type": "code",
   "execution_count": 15,
   "id": "6b987d36",
   "metadata": {},
   "outputs": [],
   "source": [
    "from sklearn.model_selection import train_test_split"
   ]
  },
  {
   "cell_type": "code",
   "execution_count": 16,
   "id": "69870c43",
   "metadata": {},
   "outputs": [],
   "source": [
    "y_data = data_banknote.pop(\"Class\")\n",
    "X_data = data_banknote"
   ]
  },
  {
   "cell_type": "code",
   "execution_count": 17,
   "id": "a3942230",
   "metadata": {},
   "outputs": [
    {
     "data": {
      "text/html": [
       "<div>\n",
       "<style scoped>\n",
       "    .dataframe tbody tr th:only-of-type {\n",
       "        vertical-align: middle;\n",
       "    }\n",
       "\n",
       "    .dataframe tbody tr th {\n",
       "        vertical-align: top;\n",
       "    }\n",
       "\n",
       "    .dataframe thead th {\n",
       "        text-align: right;\n",
       "    }\n",
       "</style>\n",
       "<table border=\"1\" class=\"dataframe\">\n",
       "  <thead>\n",
       "    <tr style=\"text-align: right;\">\n",
       "      <th></th>\n",
       "      <th>Variance of Wavelet Transformed image</th>\n",
       "      <th>Skewness of Wavelet Transformed image</th>\n",
       "      <th>Kurtosis of Wavelet Transformed image</th>\n",
       "      <th>Entropy of image</th>\n",
       "    </tr>\n",
       "  </thead>\n",
       "  <tbody>\n",
       "    <tr>\n",
       "      <th>0</th>\n",
       "      <td>3.62160</td>\n",
       "      <td>8.66610</td>\n",
       "      <td>-2.8073</td>\n",
       "      <td>-0.44699</td>\n",
       "    </tr>\n",
       "    <tr>\n",
       "      <th>1</th>\n",
       "      <td>4.54590</td>\n",
       "      <td>8.16740</td>\n",
       "      <td>-2.4586</td>\n",
       "      <td>-1.46210</td>\n",
       "    </tr>\n",
       "    <tr>\n",
       "      <th>2</th>\n",
       "      <td>3.86600</td>\n",
       "      <td>-2.63830</td>\n",
       "      <td>1.9242</td>\n",
       "      <td>0.10645</td>\n",
       "    </tr>\n",
       "    <tr>\n",
       "      <th>3</th>\n",
       "      <td>3.45660</td>\n",
       "      <td>9.52280</td>\n",
       "      <td>-4.0112</td>\n",
       "      <td>-3.59440</td>\n",
       "    </tr>\n",
       "    <tr>\n",
       "      <th>4</th>\n",
       "      <td>0.32924</td>\n",
       "      <td>-4.45520</td>\n",
       "      <td>4.5718</td>\n",
       "      <td>-0.98880</td>\n",
       "    </tr>\n",
       "    <tr>\n",
       "      <th>...</th>\n",
       "      <td>...</td>\n",
       "      <td>...</td>\n",
       "      <td>...</td>\n",
       "      <td>...</td>\n",
       "    </tr>\n",
       "    <tr>\n",
       "      <th>1367</th>\n",
       "      <td>0.40614</td>\n",
       "      <td>1.34920</td>\n",
       "      <td>-1.4501</td>\n",
       "      <td>-0.55949</td>\n",
       "    </tr>\n",
       "    <tr>\n",
       "      <th>1368</th>\n",
       "      <td>-1.38870</td>\n",
       "      <td>-4.87730</td>\n",
       "      <td>6.4774</td>\n",
       "      <td>0.34179</td>\n",
       "    </tr>\n",
       "    <tr>\n",
       "      <th>1369</th>\n",
       "      <td>-3.75030</td>\n",
       "      <td>-13.45860</td>\n",
       "      <td>17.5932</td>\n",
       "      <td>-2.77710</td>\n",
       "    </tr>\n",
       "    <tr>\n",
       "      <th>1370</th>\n",
       "      <td>-3.56370</td>\n",
       "      <td>-8.38270</td>\n",
       "      <td>12.3930</td>\n",
       "      <td>-1.28230</td>\n",
       "    </tr>\n",
       "    <tr>\n",
       "      <th>1371</th>\n",
       "      <td>-2.54190</td>\n",
       "      <td>-0.65804</td>\n",
       "      <td>2.6842</td>\n",
       "      <td>1.19520</td>\n",
       "    </tr>\n",
       "  </tbody>\n",
       "</table>\n",
       "<p>1372 rows × 4 columns</p>\n",
       "</div>"
      ],
      "text/plain": [
       "      Variance of Wavelet Transformed image  \\\n",
       "0                                   3.62160   \n",
       "1                                   4.54590   \n",
       "2                                   3.86600   \n",
       "3                                   3.45660   \n",
       "4                                   0.32924   \n",
       "...                                     ...   \n",
       "1367                                0.40614   \n",
       "1368                               -1.38870   \n",
       "1369                               -3.75030   \n",
       "1370                               -3.56370   \n",
       "1371                               -2.54190   \n",
       "\n",
       "      Skewness of Wavelet Transformed image  \\\n",
       "0                                   8.66610   \n",
       "1                                   8.16740   \n",
       "2                                  -2.63830   \n",
       "3                                   9.52280   \n",
       "4                                  -4.45520   \n",
       "...                                     ...   \n",
       "1367                                1.34920   \n",
       "1368                               -4.87730   \n",
       "1369                              -13.45860   \n",
       "1370                               -8.38270   \n",
       "1371                               -0.65804   \n",
       "\n",
       "      Kurtosis of Wavelet Transformed image  Entropy of image  \n",
       "0                                   -2.8073          -0.44699  \n",
       "1                                   -2.4586          -1.46210  \n",
       "2                                    1.9242           0.10645  \n",
       "3                                   -4.0112          -3.59440  \n",
       "4                                    4.5718          -0.98880  \n",
       "...                                     ...               ...  \n",
       "1367                                -1.4501          -0.55949  \n",
       "1368                                 6.4774           0.34179  \n",
       "1369                                17.5932          -2.77710  \n",
       "1370                                12.3930          -1.28230  \n",
       "1371                                 2.6842           1.19520  \n",
       "\n",
       "[1372 rows x 4 columns]"
      ]
     },
     "execution_count": 17,
     "metadata": {},
     "output_type": "execute_result"
    }
   ],
   "source": [
    "X_data"
   ]
  },
  {
   "cell_type": "code",
   "execution_count": 18,
   "id": "5ba2c845",
   "metadata": {},
   "outputs": [
    {
     "data": {
      "text/plain": [
       "0       0.0\n",
       "1       0.0\n",
       "2       0.0\n",
       "3       0.0\n",
       "4       0.0\n",
       "       ... \n",
       "1367    1.0\n",
       "1368    1.0\n",
       "1369    1.0\n",
       "1370    1.0\n",
       "1371    1.0\n",
       "Name: Class, Length: 1372, dtype: float64"
      ]
     },
     "execution_count": 18,
     "metadata": {},
     "output_type": "execute_result"
    }
   ],
   "source": [
    "y_data"
   ]
  },
  {
   "cell_type": "code",
   "execution_count": 19,
   "id": "2af49b74",
   "metadata": {},
   "outputs": [],
   "source": [
    "dt_classifier = DecisionTreeClassifier(random_state=100)"
   ]
  },
  {
   "cell_type": "code",
   "execution_count": 20,
   "id": "6164f5c2",
   "metadata": {},
   "outputs": [],
   "source": [
    "params = {\"max_depth\" : list(range(4,31,2)), \"min_samples_split\": list(range(10,110,10)), \"min_samples_leaf\": list(range(5,105,5))}"
   ]
  },
  {
   "cell_type": "code",
   "execution_count": 21,
   "id": "9219f9c1",
   "metadata": {},
   "outputs": [
    {
     "name": "stdout",
     "output_type": "stream",
     "text": [
      "Fitting 5 folds for each of 2800 candidates, totalling 14000 fits\n"
     ]
    },
    {
     "data": {
      "text/plain": [
       "GridSearchCV(cv=5, estimator=DecisionTreeClassifier(random_state=100),\n",
       "             n_jobs=-1,\n",
       "             param_grid={'max_depth': [4, 6, 8, 10, 12, 14, 16, 18, 20, 22, 24,\n",
       "                                       26, 28, 30],\n",
       "                         'min_samples_leaf': [5, 10, 15, 20, 25, 30, 35, 40, 45,\n",
       "                                              50, 55, 60, 65, 70, 75, 80, 85,\n",
       "                                              90, 95, 100],\n",
       "                         'min_samples_split': [10, 20, 30, 40, 50, 60, 70, 80,\n",
       "                                               90, 100]},\n",
       "             return_train_score=True, scoring='accuracy', verbose=1)"
      ]
     },
     "execution_count": 21,
     "metadata": {},
     "output_type": "execute_result"
    }
   ],
   "source": [
    "dt_model = GridSearchCV(estimator= dt_classifier,\n",
    "                        param_grid= params,\n",
    "                        n_jobs=-1,\n",
    "                        scoring= 'accuracy',  \n",
    "                        cv = 5, \n",
    "                        return_train_score=True,\n",
    "                        verbose = 1)\n",
    "dt_model.fit(X_data, y_data)"
   ]
  },
  {
   "cell_type": "code",
   "execution_count": 22,
   "id": "58d22d0c",
   "metadata": {},
   "outputs": [
    {
     "data": {
      "text/plain": [
       "DecisionTreeClassifier(max_depth=6, min_samples_leaf=5, min_samples_split=10,\n",
       "                       random_state=100)"
      ]
     },
     "execution_count": 22,
     "metadata": {},
     "output_type": "execute_result"
    }
   ],
   "source": [
    "dt_model.best_estimator_"
   ]
  },
  {
   "cell_type": "code",
   "execution_count": null,
   "id": "fa92bca1",
   "metadata": {},
   "outputs": [],
   "source": []
  }
 ],
 "metadata": {
  "kernelspec": {
   "display_name": "Python 3",
   "language": "python",
   "name": "python3"
  },
  "language_info": {
   "codemirror_mode": {
    "name": "ipython",
    "version": 3
   },
   "file_extension": ".py",
   "mimetype": "text/x-python",
   "name": "python",
   "nbconvert_exporter": "python",
   "pygments_lexer": "ipython3",
   "version": "3.8.8"
  }
 },
 "nbformat": 4,
 "nbformat_minor": 5
}
